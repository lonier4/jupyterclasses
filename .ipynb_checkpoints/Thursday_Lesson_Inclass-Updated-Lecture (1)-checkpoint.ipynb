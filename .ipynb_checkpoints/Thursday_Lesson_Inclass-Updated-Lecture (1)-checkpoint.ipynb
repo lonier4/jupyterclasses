{
 "cells": [
  {
   "cell_type": "markdown",
   "metadata": {},
   "source": [
    "# Object-Oriented-Programming (OOP)"
   ]
  },
  {
   "cell_type": "markdown",
   "metadata": {},
   "source": [
    "## Tasks Today:\n",
    "\n",
    "   \n",
    "\n",
    "1) <b>Creating a Class (Initializing/Declaring)</b> <br>\n",
    "2) <b>Using a Class (Instantiating)</b> <br>\n",
    " &nbsp;&nbsp;&nbsp;&nbsp; a) Creating One Instance <br>\n",
    " &nbsp;&nbsp;&nbsp;&nbsp; b) Creating Multiple Instances <br>\n",
    " &nbsp;&nbsp;&nbsp;&nbsp; c) In-Class Exercise #1 - Create a Class 'Car' and instantiate three different makes of cars <br>\n",
    "3) <b>The \\__init\\__() Method</b> <br>\n",
    " &nbsp;&nbsp;&nbsp;&nbsp; a) The 'self' Attribute <br>\n",
    "4) <b>Class Attributes</b> <br>\n",
    " &nbsp;&nbsp;&nbsp;&nbsp; a) Initializing Attributes <br>\n",
    " &nbsp;&nbsp;&nbsp;&nbsp; b) Setting an Attribute Outside of the \\__init\\__() Method <br>\n",
    " &nbsp;&nbsp;&nbsp;&nbsp; c) Setting Defaults for Attributes <br>\n",
    " &nbsp;&nbsp;&nbsp;&nbsp; d) Accessing Class Attributes <br>\n",
    " &nbsp;&nbsp;&nbsp;&nbsp; e) Changing Class Attributes <br>\n",
    " &nbsp;&nbsp;&nbsp;&nbsp; f) In-Class Exercise #2 - Add a color and wheels attribute to your 'Car' class <br>\n",
    "5) <b>Class Methods</b> <br>\n",
    " &nbsp;&nbsp;&nbsp;&nbsp; a) Creating <br>\n",
    " &nbsp;&nbsp;&nbsp;&nbsp; b) Calling <br>\n",
    " &nbsp;&nbsp;&nbsp;&nbsp; c) Modifying an Attribute's Value Through a Method <br>\n",
    " &nbsp;&nbsp;&nbsp;&nbsp; d) Incrementing an Attribute's Value Through a Method <br>\n",
    " &nbsp;&nbsp;&nbsp;&nbsp; e) In-Class Exercise #3 - Add a method that prints the cars color and wheel number, then call them <br>\n",
    "6) <b>Inheritance</b> <br>\n",
    " &nbsp;&nbsp;&nbsp;&nbsp; a) Syntax for Inheriting from a Parent Class <br>\n",
    " &nbsp;&nbsp;&nbsp;&nbsp; b) The \\__init\\__() Method for a Child Class (super()) <br>\n",
    " &nbsp;&nbsp;&nbsp;&nbsp; c) Defining Attributes and Methods for the Child Class <br>\n",
    " &nbsp;&nbsp;&nbsp;&nbsp; d) Method Overriding <br>\n",
    " &nbsp;&nbsp;&nbsp;&nbsp; e) In-Class Exercise #4 - Create a class 'Ford' that inherits from 'Car' class and initialize it as a Blue Ford Explorer with 4 wheels using the super() method <br>\n",
    "7) <b>Classes as Attributes</b> <br>\n",
    "8) <b>Exercises</b> <br>\n",
    " &nbsp;&nbsp;&nbsp;&nbsp; a) Exercise #1 - Turn the shopping cart program from yesterday into an object-oriented program <br>"
   ]
  },
  {
   "cell_type": "markdown",
   "metadata": {},
   "source": [
    "## Creating a Class (Initializing/Declaring)\n",
    "<p>When creating a class, function, or even a variable you are initializing that object. Initializing and Declaring occur at the same time in Python, whereas in lower level languages you have to declare an object before initializing it. This is the first step in the process of using a class.</p>"
   ]
  },
  {
   "cell_type": "code",
   "execution_count": 2,
   "metadata": {},
   "outputs": [],
   "source": [
    "class Car():\n",
    "    wheels = 4\n",
    "    color = 'blue'\n",
    "    \n",
    "#formula is       class ClassName():         #the () is optional\n",
    "\n",
    "class Character:\n",
    "    name = 'Sherlock Holmes'\n",
    "    show = 'BBC\\'s Sherlock'"
   ]
  },
  {
   "cell_type": "markdown",
   "metadata": {},
   "source": [
    "## Using a Class (Instantiating)\n",
    "<p>The process of creating a class is called <i>Instantiating</i>. Each time you create a variable of that type of class, it is referred to as an <i>Instance</i> of that class. This is the second step in the process of using a class.</p>"
   ]
  },
  {
   "cell_type": "markdown",
   "metadata": {},
   "source": [
    "##### Creating One Instance"
   ]
  },
  {
   "cell_type": "code",
   "execution_count": 3,
   "metadata": {},
   "outputs": [
    {
     "name": "stdout",
     "output_type": "stream",
     "text": [
      "blue\n"
     ]
    }
   ],
   "source": [
    "ford = Car()\n",
    "\n",
    "print(ford.color)"
   ]
  },
  {
   "cell_type": "markdown",
   "metadata": {},
   "source": [
    "##### Creating Multiple Instances"
   ]
  },
  {
   "cell_type": "code",
   "execution_count": 4,
   "metadata": {},
   "outputs": [
    {
     "name": "stdout",
     "output_type": "stream",
     "text": [
      "<class 'str'>\n"
     ]
    },
    {
     "ename": "AttributeError",
     "evalue": "'Car' object has no attribute 'bumper'",
     "output_type": "error",
     "traceback": [
      "\u001b[1;31m---------------------------------------------------------------------------\u001b[0m",
      "\u001b[1;31mAttributeError\u001b[0m                            Traceback (most recent call last)",
      "\u001b[1;32m<ipython-input-4-588218de20be>\u001b[0m in \u001b[0;36m<module>\u001b[1;34m\u001b[0m\n\u001b[0;32m      4\u001b[0m \u001b[1;33m\u001b[0m\u001b[0m\n\u001b[0;32m      5\u001b[0m \u001b[0mprint\u001b[0m\u001b[1;33m(\u001b[0m\u001b[0mtype\u001b[0m\u001b[1;33m(\u001b[0m\u001b[0mporsche\u001b[0m\u001b[1;33m.\u001b[0m\u001b[0mcolor\u001b[0m\u001b[1;33m)\u001b[0m\u001b[1;33m)\u001b[0m\u001b[1;33m\u001b[0m\u001b[1;33m\u001b[0m\u001b[0m\n\u001b[1;32m----> 6\u001b[1;33m \u001b[0mprint\u001b[0m\u001b[1;33m(\u001b[0m\u001b[0mporsche\u001b[0m\u001b[1;33m.\u001b[0m\u001b[0mbumper\u001b[0m\u001b[1;33m)\u001b[0m\u001b[1;33m\u001b[0m\u001b[1;33m\u001b[0m\u001b[0m\n\u001b[0m",
      "\u001b[1;31mAttributeError\u001b[0m: 'Car' object has no attribute 'bumper'"
     ]
    }
   ],
   "source": [
    "chevy = Car()\n",
    "honda = Car()\n",
    "porsche = Car()\n",
    "\n",
    "print(type(porsche.color))\n",
    "print(porsche.bumper)"
   ]
  },
  {
   "cell_type": "markdown",
   "metadata": {},
   "source": [
    "##### In-Class Exercise #1 - Create a Class 'Car' and Instantiate three different makes of cars"
   ]
  },
  {
   "cell_type": "code",
   "execution_count": 12,
   "metadata": {},
   "outputs": [
    {
     "name": "stdout",
     "output_type": "stream",
     "text": [
      "2020\n",
      "civic\n",
      "Ford\n",
      "<__main__.Car object at 0x00000234662F5EE0>\n"
     ]
    }
   ],
   "source": [
    "class Car():\n",
    "    year = \"\"                   # Don't need to have an initial value.\n",
    "    make = 'Honda'\n",
    "    model = 'civic'\n",
    "    wheels = 4\n",
    "    \n",
    "    \n",
    "car1 = Car()\n",
    "car2 = Car()\n",
    "car3 = Car()\n",
    "\n",
    "car1.make = 'Chevy'\n",
    "car2.make = 'Tesla'\n",
    "car3.make = 'Ford'\n",
    "\n",
    "car1.year = 2020\n",
    "\n",
    "print(car1.year)\n",
    "print(car2.model)\n",
    "print(car3.make)\n",
    "print(wheels)          # Will throw an error because of the scope. It doesnt have access to wheels yet.\n",
    "\n",
    "# Cannot call on all class attributes at once, ideally go 1 by 1."
   ]
  },
  {
   "cell_type": "markdown",
   "metadata": {},
   "source": [
    "## The \\__init\\__() Method <br>\n",
    "<p>This method is used in almost every created class, and called only once upon the creation of the class instance. This method will initialize all variables needed for the object.</p>"
   ]
  },
  {
   "cell_type": "code",
   "execution_count": 13,
   "metadata": {},
   "outputs": [
    {
     "name": "stdout",
     "output_type": "stream",
     "text": [
      "4\n",
      "black\n",
      "<__main__.Car object at 0x000002346759DA90>\n",
      "{'wheels': 2, 'color': 'Red'}\n",
      "<__main__.Car object at 0x00000234662F5910>\n",
      "{'wheels': 4, 'color': 'blue'}\n"
     ]
    }
   ],
   "source": [
    "class Car():\n",
    "    engine = '4.7L' # constant-attribute\n",
    "    \n",
    "    def __init__(self,wheels,color):  # No limit to how many attributes you can assign but they must match when you call it\n",
    "        self.wheels = wheels\n",
    "        self.color = color\n",
    "        self.sunroof = 'yes'          # You can assign a literal hard value even if you dont define it as an argument\n",
    "                                      # within __init__()\n",
    "        \n",
    "ford = Car(4,'red')\n",
    "chevy = Car(6, 'black')\n",
    "\n",
    "print(ford.wheels)\n",
    "print(chevy.color)\n",
    "\n",
    "# the object.__dict__ special attribute takes our class attributes and puts them in a dictionary for us\n",
    "ferrari = Car(2, 'Red')\n",
    "print(ferrari)\n",
    "print(ferrari.__dict__)\n",
    "\n",
    "tesla = Car(4, 'blue')\n",
    "print(tesla)                  # will not print all attributes, just it's place in memory  \n",
    "print(tesla.__dict__)         # this will print every attribute\n",
    "\n"
   ]
  },
  {
   "cell_type": "markdown",
   "metadata": {},
   "source": [
    "##### The 'self' Attribute <br>\n",
    "<p>This attribute is required to keep track of specific instance's attributes. Without the self attribute, the program would not know how to reference or keep track of an instance's attributes.</p>"
   ]
  },
  {
   "cell_type": "code",
   "execution_count": 15,
   "metadata": {},
   "outputs": [
    {
     "name": "stdout",
     "output_type": "stream",
     "text": [
      "4\n",
      "black\n",
      "<__main__.Car object at 0x0000023467196850>\n",
      "{'wheels': 2, 'color': 'Red', 'sunroof': 'no'}\n",
      "<__main__.Car object at 0x0000023467196730>\n",
      "{'wheels': 4, 'color': 'blue', 'sunroof': 'yes'}\n",
      "<__main__.Car object at 0x000002346621C3A0>\n",
      "{'wheels': 3, 'color': 'no', 'sunroof': 'yes'}\n"
     ]
    }
   ],
   "source": [
    "# see above\n",
    "\n",
    "class Car():\n",
    "    engine = '4.7L' # constant-attribute\n",
    "    \n",
    "    def __init__(self,wheels,color='green', sunroof='yes'):  # Alternatively from above, you can assign an optional argument\n",
    "        self.wheels = wheels\n",
    "        self.color = color\n",
    "        self.sunroof = sunroof          # You can assign a literal hard value even if you dont define it as an argument\n",
    "                                      # within __init__()\n",
    "        \n",
    "ford = Car(4,'red')\n",
    "chevy = Car(6, 'black')\n",
    "\n",
    "print(ford.wheels)\n",
    "print(chevy.color)\n",
    "\n",
    "# the object.__dict__ special attribute takes our class attributes and puts them in a dictionary for us\n",
    "ferrari = Car(2, 'Red', 'no')     # this will override the 'yes' for sunroof within __init__\n",
    "print(ferrari)\n",
    "print(ferrari.__dict__)\n",
    "\n",
    "tesla = Car(4, 'blue')\n",
    "print(tesla)                  # will not print all attributes, just it's place in memory  \n",
    "print(tesla.__dict__)         # this will print every attribute\n",
    "\n",
    "mclaren = Car(3, 'no' )       # this will assign 'no' to whatever the firstoptional argument given within __init__()\n",
    "print(mclaren)          # so it will assign 'no' to color instead of sunroof because only one of the 2 parameters were given\n",
    "print(mclaren.__dict__) "
   ]
  },
  {
   "cell_type": "markdown",
   "metadata": {},
   "source": [
    "## Class Attributes <br>\n",
    "<p>While variables are inside of a class, they are referred to as attributes and not variables. When someone says 'attribute' you know they're speaking about a class. Attributes can be initialized through the init method, or outside of it.</p>"
   ]
  },
  {
   "cell_type": "markdown",
   "metadata": {},
   "source": [
    "##### Initializing Attributes"
   ]
  },
  {
   "cell_type": "code",
   "execution_count": 12,
   "metadata": {},
   "outputs": [],
   "source": [
    "# see above\n",
    "\n",
    "class Toy():\n",
    "    kind = \"car\" # Constant - DOES NOT CHANGE FREQUENTLY\n",
    "    \n",
    "    def __init__(self,rooftop,horn,wheels):\n",
    "        self.rooftop = rooftop\n",
    "        self.horn = horn\n",
    "        self.wheels = wheels\n",
    "        \n",
    "tanka_truck = Toy(1,1,4) # 1 rooftop, 1 horn, 4 wheels\n",
    "hotwheels_car = Toy(2, 3, 8) # 2 rooftops, 3 horns, 8 wheels"
   ]
  },
  {
   "cell_type": "markdown",
   "metadata": {},
   "source": [
    "##### Accessing Class Attributes"
   ]
  },
  {
   "cell_type": "code",
   "execution_count": 13,
   "metadata": {
    "scrolled": true
   },
   "outputs": [
    {
     "data": {
      "text/plain": [
       "1"
      ]
     },
     "execution_count": 13,
     "metadata": {},
     "output_type": "execute_result"
    }
   ],
   "source": [
    "# See Above\n",
    "tanka_truck.rooftop"
   ]
  },
  {
   "cell_type": "markdown",
   "metadata": {},
   "source": [
    "##### Setting Defaults for Attributes"
   ]
  },
  {
   "cell_type": "code",
   "execution_count": 14,
   "metadata": {},
   "outputs": [],
   "source": [
    "class Car():\n",
    "    engine = '4.7L'\n",
    "    \n",
    "    def __init__(self,wheels):\n",
    "        self.wheels = wheels\n",
    "        self.color = 'Blue' # Default Attribute\n",
    "        \n",
    "honda = Car(4)\n",
    "jeep = Car(8)"
   ]
  },
  {
   "cell_type": "markdown",
   "metadata": {},
   "source": [
    "##### Changing Class Attributes <br>\n",
    "<p>Keep in mind there are global class attributes and then there are attributes only available to each class instance which won't effect other classes.</p>"
   ]
  },
  {
   "cell_type": "code",
   "execution_count": 17,
   "metadata": {},
   "outputs": [
    {
     "name": "stdout",
     "output_type": "stream",
     "text": [
      "BEFORE CHANGE: White\n",
      "\n",
      " AFTER CHANGE: White\n"
     ]
    }
   ],
   "source": [
    "# Changing the Default Attribute for this example\n",
    "print(f'BEFORE CHANGE: {jeep.color}')\n",
    "\n",
    "jeep.color = 'White'\n",
    "\n",
    "print(f'\\n AFTER CHANGE: {jeep.color}')\n"
   ]
  },
  {
   "cell_type": "code",
   "execution_count": null,
   "metadata": {},
   "outputs": [],
   "source": []
  },
  {
   "cell_type": "markdown",
   "metadata": {},
   "source": [
    "##### In-Class Exercise #2 - Add a doors and seats attribute to your 'Car' class then print out two different instances with different doors and seats"
   ]
  },
  {
   "cell_type": "code",
   "execution_count": 10,
   "metadata": {},
   "outputs": [
    {
     "name": "stdout",
     "output_type": "stream",
     "text": [
      "The jeep has 4 seats and 4 doors\n",
      "{'seats': 2, 'doors': 2}\n",
      "The nissan has 3 seats and 5 doors\n"
     ]
    }
   ],
   "source": [
    "# Jeep seats: 4 and Jeep doors: 4 \n",
    "# Honda seats: 2 and Honda doors: 2\n",
    "\n",
    "class Car():\n",
    "    def __init__(self, seats, doors=5):\n",
    "        self.seats = seats\n",
    "        self.doors = doors\n",
    "        \n",
    "jeep = Car(4, 4)\n",
    "print(f'The jeep has {jeep.seats} seats and {jeep.doors} doors')\n",
    "\n",
    "honda = Car(2, 2)\n",
    "print(honda.__dict__)\n",
    "\n",
    "nissan = Car(3, )\n",
    "print(f'The nissan has {nissan.seats} seats and {nissan.doors} doors')"
   ]
  },
  {
   "cell_type": "markdown",
   "metadata": {},
   "source": [
    "## Class Methods <br>\n",
    "<p>While inside of a class, functions are referred to as 'methods'. If you hear someone mention methods, they're speaking about classes. Methods are essentially functions, but only callable on the instances of a class.</p>"
   ]
  },
  {
   "cell_type": "markdown",
   "metadata": {},
   "source": [
    "##### Creating"
   ]
  },
  {
   "cell_type": "code",
   "execution_count": 23,
   "metadata": {},
   "outputs": [],
   "source": [
    "class ShoppingBag():\n",
    "    \"\"\"\n",
    "        The ShoppingBag Class will have handles, capacity and items\n",
    "        to place inside.\n",
    "        \n",
    "        Attributes for the class:\n",
    "        - handles: expected to be an integer\n",
    "        - capacity: expected to be a string OR an integer\n",
    "        - items: expected to be a list\n",
    "    \"\"\"\n",
    "    \n",
    "    def __init__(self,handles,capacity,items):\n",
    "        self.handles = handles\n",
    "        self.capacity = capacity\n",
    "        self.items = items\n",
    "        \n",
    "    # Method that shows the shoppingBag items\n",
    "    def showShoppingBag(self):\n",
    "        print(\"You Have items in your bag!!!\")\n",
    "        for item in self.items:\n",
    "            print(item)\n",
    "    \n",
    "    # Show capacity of shoppingBag\n",
    "    def showCapacity(self):\n",
    "        print(f'Your Capacity is: {self.capacity}')\n",
    "        \n",
    "    # Add Item(s) to the items list for the shoppingBag\n",
    "    def addToShoppingBag(self):\n",
    "        products = input('What would you like to add? ')\n",
    "        self.items.append(products)\n",
    "        \n",
    "    # Change the capacity of the shoppingBag (dynamically)\n",
    "    def changeBagCapacity(self, capacity):\n",
    "        self.capacity = capacity\n",
    "        \n",
    "    # Increase Capacity of the shoppingBag by 10 -- default\n",
    "    def increaseCapacity(self, changed_capacity = 10):\n",
    "        if self.capacity == isinstance(self.capacity, str):\n",
    "            print(\"We can't do that here boss...\")\n",
    "        else:\n",
    "            self.capacity += changed_capacity"
   ]
  },
  {
   "cell_type": "markdown",
   "metadata": {},
   "source": [
    "##### Calling"
   ]
  },
  {
   "cell_type": "code",
   "execution_count": 24,
   "metadata": {},
   "outputs": [
    {
     "name": "stdout",
     "output_type": "stream",
     "text": [
      "What do you want to do? add/show/ or quitadd\n",
      "What would you like to add? bread\n",
      "What do you want to do? add/show/ or quitshow\n",
      "You Have items in your bag!!!\n",
      "bread\n",
      "What do you want to do? add/show/ or quitquit\n",
      "You Have items in your bag!!!\n",
      "bread\n",
      "Thanks for shopping\n"
     ]
    }
   ],
   "source": [
    "# See Above\n",
    "# Created and instance of the ShoppingBag Class\n",
    "wholeFoods_bag = ShoppingBag(2,10,[])\n",
    "\n",
    "# Create Function to run the shoppingBag(wholeFoods_bag) methods\n",
    "\n",
    "def run():\n",
    "    while True:\n",
    "        response = input('What do you want to do? add/show/ or quit')\n",
    "        \n",
    "        if response.lower() == 'quit':\n",
    "            wholeFoods_bag.showShoppingBag()\n",
    "            print('Thanks for shopping')\n",
    "            break\n",
    "        elif response.lower() == 'add':\n",
    "            wholeFoods_bag.addToShoppingBag()\n",
    "            \n",
    "        elif response.lower() == 'show':\n",
    "            wholeFoods_bag.showShoppingBag()\n",
    "            \n",
    "run()"
   ]
  },
  {
   "cell_type": "markdown",
   "metadata": {},
   "source": [
    "##### Modifying an Attribute's Value Through a Method"
   ]
  },
  {
   "cell_type": "code",
   "execution_count": 25,
   "metadata": {},
   "outputs": [
    {
     "name": "stdout",
     "output_type": "stream",
     "text": [
      "Your Capacity is: 10\n",
      "Capacity AFTER the change...\n",
      "Your Capacity is: 40\n"
     ]
    }
   ],
   "source": [
    "# Show Capacity\n",
    "wholeFoods_bag.showCapacity()\n",
    "print('Capacity AFTER the change...')\n",
    "wholeFoods_bag.changeBagCapacity(40)\n",
    "wholeFoods_bag.showCapacity()\n",
    "\n",
    "# you can use a setter function or a getter.\n",
    "# setter for car example above would be..\n",
    "\n",
    "def setColor(self, newColor):        # this method would be inside the Car class, in other words it would be indented\n",
    "    oldColor = self.color            # you are able to pass variables or arguments in other methods in the class even if\n",
    "                                    # it wasnt initially included in the __init__()\n",
    "    self.color = newColor\n",
    "    print(oldColor, newColor)      #this wont actually work but you get it."
   ]
  },
  {
   "cell_type": "markdown",
   "metadata": {},
   "source": [
    "##### Incrementing an Attribute's Value Through a Method"
   ]
  },
  {
   "cell_type": "code",
   "execution_count": 26,
   "metadata": {},
   "outputs": [
    {
     "name": "stdout",
     "output_type": "stream",
     "text": [
      "Your Capacity is: 40\n",
      "After Increase\n",
      "Your Capacity is: 50\n"
     ]
    }
   ],
   "source": [
    "wholeFoods_bag.showCapacity()\n",
    "print('After Increase')\n",
    "wholeFoods_bag.increaseCapacity()\n",
    "wholeFoods_bag.showCapacity()\n",
    "\n",
    "def older(self):\n",
    "    self.age =+ 1\n",
    "    print()"
   ]
  },
  {
   "cell_type": "markdown",
   "metadata": {},
   "source": [
    "##### In-Class Exercise #3 - Add a method that takes in three parameters of year, doors and seats and prints out a formatted print statement with make, model, year, seats, and doors"
   ]
  },
  {
   "cell_type": "code",
   "execution_count": 21,
   "metadata": {},
   "outputs": [
    {
     "name": "stdout",
     "output_type": "stream",
     "text": [
      "{'make': 'Ford', 'model': 'Taurus'}\n",
      "You have a 2001 Ford Taurus with 3 seats and 4 doors\n"
     ]
    }
   ],
   "source": [
    "# Create class with 2 paramters inside of the __init__ which are make and model\n",
    "\n",
    "# Inside of the Car class create a method that has 4 parameter in total (self,year,door,seats)\n",
    "\n",
    "# Output: This car is from 2019 and is a Ford Expolorer and has 4 doors and 5 seats\n",
    "\n",
    "class Car():\n",
    "    engine = '4.7L' # constant-attribute\n",
    "    \n",
    "#     def __init__(self, wheels, color='green', sunroof='yes'):  # Alternatively from above, you can assign an optional argument\n",
    "#         self.wheels = wheels\n",
    "#         self.color = color\n",
    "#         self.sunroof = sunroof          # You can assign a literal hard value even if you dont define it as an argument\n",
    "                                      # within __init__()\n",
    "    \n",
    "    def __init__(self, make, model):\n",
    "        self.make = make\n",
    "        self.model = model\n",
    "    \n",
    "    \n",
    "    def moreParameters(self, year, doors=4, seats=3):\n",
    "        self.year = year\n",
    "        self.doors = doors\n",
    "        self.seats = seats\n",
    "        print(f'You have a {year} {self.make} {self.model} with {seats} seats and {doors} doors')\n",
    "\n",
    "# You dont have to include self before the attribute inside any additional methods Ex.(moreParameters)\n",
    "# It could also work liek below ...\n",
    "\n",
    "#   def moreParameters(self, year, doors=4, seats=3):\n",
    "#        print(f'You have a {year} {self.make} {self.model} with {seats} seats and {doors} doors')\n",
    "    \n",
    "    \n",
    "ford = Car('Ford', 'Taurus')\n",
    "print(ford.__dict__)\n",
    "ford.moreParameters(2001)\n"
   ]
  },
  {
   "cell_type": "markdown",
   "metadata": {},
   "source": [
    "## Inheritance <br>\n",
    "<p>You can create a child-parent relationship between two classes by using inheritance. What this allows you to do is have overriding methods, but also inherit traits from the parent class. Think of it as an actual parent and child, the child will inherit the parent's genes, as will the classes in OOP</p>"
   ]
  },
  {
   "cell_type": "markdown",
   "metadata": {},
   "source": [
    "##### Syntax for Inheriting from a Parent Class"
   ]
  },
  {
   "cell_type": "code",
   "execution_count": 34,
   "metadata": {},
   "outputs": [
    {
     "name": "stdout",
     "output_type": "stream",
     "text": [
      "Bark\n",
      "Make Some Generic Sound\n",
      "None\n",
      "9.8\n"
     ]
    }
   ],
   "source": [
    "# Creation of our Parent Class -- Animal\n",
    "class Animal():\n",
    "    acceleration = 9.8\n",
    "    \n",
    "    def __init__(self,name,species,legs = 4):\n",
    "        self.name = name\n",
    "        self.species = species\n",
    "        self.legs = legs\n",
    "        \n",
    "    # Generic Parent(Animal) Method -- NO OVERRIDE YET\n",
    "    def makeSound(self):\n",
    "        print('Make Some Generic Sound')\n",
    "        \n",
    "# Creation of our Child Class -- Dog\n",
    "class Dog(Animal):\n",
    "    speed = 15\n",
    "    \n",
    "    def printInfo(self):\n",
    "        print(f\"The Dog has {self.speed}mph in speed and {self.acceleration}\")\n",
    "        \n",
    "\n",
    "# Creation of our Grand-Child Class -- Mut\n",
    "class Mut(Dog):\n",
    "    color = 'black & brown'\n",
    "    \n",
    "    # Overriding of the ANIMAL Class __init__ method (by way of using the Dog class)\n",
    "    def __init__(self, name, species, eye_color, legs = 4):\n",
    "        Dog.__init__(self,name,species,legs) \n",
    "        self.eye_color = eye_color\n",
    "        \n",
    "    # Overide the makeSound method (again coming from the ANIMAL class)\n",
    "    def makeSound(self):\n",
    "        noise = 'Bark'\n",
    "        return noise\n",
    "        \n",
    "lassie = Dog('Lassie','Dog')\n",
    "basic_animal = Animal('Generic Animal Name', 'Generic Animal Species')\n",
    "buster = Mut('Buster', 'Mut','black')\n",
    "\n",
    "print(buster.makeSound())\n",
    "print(basic_animal.makeSound())\n",
    "print(buster.acceleration)\n",
    "\n",
    "# Checking the inheritance tree for our Mut class\n"
   ]
  },
  {
   "cell_type": "markdown",
   "metadata": {},
   "source": [
    "##### The \\__init\\__() Method for a Child Class - super()"
   ]
  },
  {
   "cell_type": "code",
   "execution_count": 37,
   "metadata": {
    "scrolled": true
   },
   "outputs": [
    {
     "name": "stdout",
     "output_type": "stream",
     "text": [
      "Bark\n",
      "Make Some Generic Sound\n",
      "None\n",
      "9.8\n",
      "Help on class Mut in module __main__:\n",
      "\n",
      "class Mut(Dog)\n",
      " |  Mut(name, species, eye_color, legs=4)\n",
      " |  \n",
      " |  Method resolution order:\n",
      " |      Mut\n",
      " |      Dog\n",
      " |      Animal\n",
      " |      builtins.object\n",
      " |  \n",
      " |  Methods defined here:\n",
      " |  \n",
      " |  __init__(self, name, species, eye_color, legs=4)\n",
      " |      Initialize self.  See help(type(self)) for accurate signature.\n",
      " |  \n",
      " |  makeSound(self)\n",
      " |      # Overide the makeSound method (again coming from the ANIMAL class)\n",
      " |  \n",
      " |  ----------------------------------------------------------------------\n",
      " |  Data and other attributes defined here:\n",
      " |  \n",
      " |  color = 'black & brown'\n",
      " |  \n",
      " |  ----------------------------------------------------------------------\n",
      " |  Methods inherited from Dog:\n",
      " |  \n",
      " |  printInfo(self)\n",
      " |  \n",
      " |  ----------------------------------------------------------------------\n",
      " |  Data and other attributes inherited from Dog:\n",
      " |  \n",
      " |  speed = 15\n",
      " |  \n",
      " |  ----------------------------------------------------------------------\n",
      " |  Data descriptors inherited from Animal:\n",
      " |  \n",
      " |  __dict__\n",
      " |      dictionary for instance variables (if defined)\n",
      " |  \n",
      " |  __weakref__\n",
      " |      list of weak references to the object (if defined)\n",
      " |  \n",
      " |  ----------------------------------------------------------------------\n",
      " |  Data and other attributes inherited from Animal:\n",
      " |  \n",
      " |  acceleration = 9.8\n",
      "\n"
     ]
    }
   ],
   "source": [
    "class Mut(Dog):\n",
    "    color = 'black & brown'\n",
    "    \n",
    "    # Overriding of the ANIMAL Class __init__ method (by way of using the Dog class)\n",
    "    def __init__(self, name, species, eye_color, legs = 4):\n",
    "        super().__init__(name,species,legs) \n",
    "        self.eye_color = eye_color\n",
    "        \n",
    "    # Overide the makeSound method (again coming from the ANIMAL class)\n",
    "    def makeSound(self):\n",
    "        noise = 'Bark'\n",
    "        return noise\n",
    "    \n",
    "lassie = Dog('Lassie','Dog')\n",
    "basic_animal = Animal('Generic Animal Name', 'Generic Animal Species')\n",
    "buster = Mut('Buster', 'Mut','black')\n",
    "\n",
    "print(buster.makeSound())\n",
    "print(basic_animal.makeSound())\n",
    "print(buster.acceleration)\n",
    "\n",
    "help(Mut)"
   ]
  },
  {
   "cell_type": "markdown",
   "metadata": {},
   "source": [
    "##### Defining Attributes and Methods for the Child Class"
   ]
  },
  {
   "cell_type": "code",
   "execution_count": null,
   "metadata": {},
   "outputs": [],
   "source": [
    "# See Above"
   ]
  },
  {
   "cell_type": "markdown",
   "metadata": {},
   "source": [
    "##### Method Overriding"
   ]
  },
  {
   "cell_type": "code",
   "execution_count": null,
   "metadata": {},
   "outputs": [],
   "source": [
    "# See Above"
   ]
  },
  {
   "cell_type": "markdown",
   "metadata": {},
   "source": [
    "## Classes as Attributes <br>\n",
    "<p>Classes can also be used as attributes within another class. This is useful in situations where you need to keep variables locally stored, instead of globally stored.</p>"
   ]
  },
  {
   "cell_type": "code",
   "execution_count": 6,
   "metadata": {},
   "outputs": [
    {
     "name": "stdout",
     "output_type": "stream",
     "text": [
      "20\n",
      "<__main__.Animal object at 0x000001767097DEE0>\n",
      "{'name': 'Fennec Fox', 'habitat': 'desert', 'description': 'A small large-eared fox native to the deserts of Africa.'}\n",
      "<__main__.Zookeeper object at 0x000001767093D7C0>\n",
      "{'name': 'Anton Ego', 'age': 47}\n",
      "<__main__.Zoo object at 0x0000017670A4E520>\n",
      "{'location': 'Paris, France', 'zookeeper': <__main__.Zookeeper object at 0x000001767093D7C0>, 'animals': []}\n",
      "Anton Ego\n",
      "\n",
      "\n"
     ]
    }
   ],
   "source": [
    "class Battery():\n",
    "    volts = 7.8\n",
    "    \n",
    "    def __init__(self, cells):\n",
    "        self.cells = cells\n",
    "        \n",
    "class Car():\n",
    "    def __init__(self,year,make,model,battery):\n",
    "        self.year = year\n",
    "        self.make = make\n",
    "        self.model = model\n",
    "        self.battery = battery\n",
    "        \n",
    "    def printInfo(self):\n",
    "        return f'{self.year} {self.make} {self.model} {self.battery.cells}'\n",
    "    \n",
    "battery = Battery(20)\n",
    "\n",
    "telsa = Car(2019, 'Tesla', \"Model X\", battery)\n",
    "\n",
    "print(telsa.battery.cells)\n",
    "telsa.printInfo()\n",
    "\n",
    "\n",
    "# Let's plan a zoo with 4 classes\n",
    "# zookeeper - object (will have __init__)\n",
    "    # attributes could be: name, age\n",
    "# zoo        - object (will have __init__)\n",
    "    # attributes could be: zooleeper, location, list of animals\n",
    "# animal     - object (will have __init__)\n",
    "    # attributes could be: name, habitat, description\n",
    "\n",
    "# main class - not an object, just where I put my instatiations/driver code\n",
    "# If what you are doing/have is a characteristic or piece of data - it should be an attribute\n",
    "# if what you are doing/have is a process or an action its gonna be a method/function\n",
    "\n",
    "#an attribute is something that a class has\n",
    "# a method is something that a class does\n",
    "\n",
    "class Animal():\n",
    "    def __init__(self, name, habitat, description):\n",
    "        self.name = name\n",
    "        self.habitat = habitat\n",
    "        self.description = description\n",
    "    \n",
    "    def display(self):\n",
    "        print(f'The {self.name} lives in the {self.habitat}. The {self.name} is {self.description}')\n",
    "    \n",
    "    \n",
    "class Zookeeper():\n",
    "    def __init__(self, name, age):\n",
    "        self.name = name\n",
    "        self.age = age\n",
    "        \n",
    "        \n",
    "    \n",
    "class Zoo():\n",
    "    def __init__(self, location, zookeeper):\n",
    "        self.location = location\n",
    "        self.zookeeper = zookeeper\n",
    "        self.animals = []\n",
    "       \n",
    "    \n",
    "    # goal: write a method that accepts input of Zoo (self) and the name of an animal\n",
    "    # the zoo should either tell us i fhtey have the animal or it should display the animal info\n",
    "    def findAnimal(self, a_name):\n",
    "        # loop through animals list, compare provided name to each animal objects name\n",
    "        for a in self.animals:\n",
    "            if a.name == a_name.title():\n",
    "                a.display()\n",
    "                return\n",
    "        print(f'Sorry, we dont\\'t have that animal at this zoo. Someone tell Zookeeper {self.zookeeper.name} to go buy one.')\n",
    "        \n",
    "# instantiations or driver code:\n",
    "fennec = Animal('Fennec Fox', 'desert', 'A small large-eared fox native to the deserts of Africa.')\n",
    "print(fennec)\n",
    "print(fennec.__dict__)\n",
    "rat = Animal('Rat', 'kitchen', 'talented little chef - especially if named Remy' )\n",
    "bear = Animal('Polar Bear', 'artic tundra', 'a cute and cuddly animal that may rip your face off.')\n",
    "\n",
    "\n",
    "ego = Zookeeper('Anton Ego', 47)\n",
    "print(ego)\n",
    "print(ego.__dict__)\n",
    "\n",
    "azoo = Zoo('Paris, France', ego)\n",
    "print(azoo)\n",
    "print(azoo.__dict__)\n",
    "print(azoo.zookeeper.name)\n",
    "print('\\n')\n",
    "azoo.animals.append(fennec)\n",
    "azoo.animals.append(rat)\n",
    "azoo.animals.append(bear)"
   ]
  },
  {
   "cell_type": "markdown",
   "metadata": {},
   "source": [
    "# Exercises"
   ]
  },
  {
   "cell_type": "markdown",
   "metadata": {},
   "source": [
    "### Exercise 1 - Turn the shopping cart program from yesterday into an object-oriented program\n",
    "\n",
    "The comments in the cell below are there as a guide for thinking about the problem. However, if you feel a different way is best for you and your own thought process, please do what feels best for you by all means."
   ]
  },
  {
   "cell_type": "code",
   "execution_count": 1,
   "metadata": {},
   "outputs": [
    {
     "name": "stdout",
     "output_type": "stream",
     "text": [
      "Do you want to: Show/Add/Delete/Clear or Quit?add\n",
      "You stay hungry..What do you want to add? milk\n",
      "Milk has been added\n",
      "Do you want to: Show/Add/Delete/Clear or Quit?add\n",
      "You stay hungry..What do you want to add? soap\n",
      "Soap has been added\n",
      "Do you want to: Show/Add/Delete/Clear or Quit?add\n",
      "You stay hungry..What do you want to add? red\n",
      "Red has been added\n",
      "Do you want to: Show/Add/Delete/Clear or Quit?delete\n",
      "What can I get rid of? red\n",
      "Bye bye red\n",
      "Do you want to: Show/Add/Delete/Clear or Quit?show\n",
      "Here's what you got so far: ['milk', 'soap']\n",
      "Do you want to: Show/Add/Delete/Clear or Quit?quit\n",
      "Thanks for shopping! Cleofus can help you checkout in lane 4.\n",
      "Here's your final list: ['milk', 'soap']\n"
     ]
    },
    {
     "data": {
      "text/plain": [
       "<__main__.run at 0x29992e44b80>"
      ]
     },
     "execution_count": 1,
     "metadata": {},
     "output_type": "execute_result"
    }
   ],
   "source": [
    "# Create a class called cart that retains items and has methods to add, remove, and show\n",
    "\n",
    "class Cart():\n",
    "    def __init__(self):    # I can alternatively pass \"items\" as an argument and then pass []\n",
    "        self.items = []    # in the instance below myCart = Cart([])\n",
    "\n",
    "    def addItem(self):\n",
    "        new_item = input('You stay hungry..What do you want to add? ').lower()\n",
    "        # Loop through the items list and check if user provided items are already in the cart\n",
    "        while True:\n",
    "            if  new_item not in self.items:\n",
    "                self.items.append(new_item)   \n",
    "                print(f'{new_item.title()} has been added')\n",
    "                break\n",
    "            else: \n",
    "                new_item in self.items\n",
    "                print(f'Silly you...{new_item.title()} is already in your list!')\n",
    "                break\n",
    "            \n",
    "    def showItem(self):\n",
    "        print(f'Here\\'s what you got so far: {self.items}')\n",
    "\n",
    "    def deleteItem(self):\n",
    "        the_unwanted = input(\"What can I get rid of? \")\n",
    "        # Loop through the items list and check if user provided items are already in the cart\n",
    "        while True:\n",
    "            if the_unwanted not in self.items:\n",
    "                print(f'Try again bud, there\\'s no {the_unwanted} in your list')\n",
    "                break\n",
    "            else:\n",
    "                the_unwanted in self.items\n",
    "                self.items.remove(the_unwanted)\n",
    "                print(f'Bye bye {the_unwanted}')\n",
    "                break \n",
    "\n",
    "    def clearItems(self):\n",
    "        self.items.clear()\n",
    "        print('You list is empty')\n",
    "\n",
    "    def doneShopping(self): \n",
    "        print(f'Here\\'s your final list: {self.items}')\n",
    "\n",
    "class Item():\n",
    "    def __init__(self, name, aisle, section):\n",
    "        self.name = name\n",
    "        self.aisle = aisle\n",
    "        self.section = section\n",
    "\n",
    "class Clerk():\n",
    "    def __init__(self, name, lane):\n",
    "        self.name = name\n",
    "        self.lane = lane\n",
    "\n",
    "    def checkout(self):\n",
    "        print(f'Thanks for shopping! {cleofus.name} can help you checkout in lane {cleofus.lane}.')\n",
    "\n",
    "cleofus = Clerk('Cleofus', 4)\n",
    "\n",
    "mycart = Cart()\n",
    "\n",
    "class run():        \n",
    "    while True:\n",
    "        user_action = input('Do you want to: Show/Add/Delete/Clear or Quit?').lower()\n",
    "        \n",
    "        if user_action == \"add\": \n",
    "            mycart.addItem()    \n",
    "\n",
    "        if user_action == \"show\":\n",
    "            mycart.showItem()\n",
    "\n",
    "        if user_action == \"delete\":\n",
    "            mycart.deleteItem()\n",
    "\n",
    "        if user_action == \"clear\":\n",
    "            mycart.clearItems()\n",
    "                \n",
    "        if user_action == \"quit\":\n",
    "            cleofus.checkout()\n",
    "            mycart.doneShopping()\n",
    "            break\n",
    "\n",
    "run()"
   ]
  },
  {
   "cell_type": "markdown",
   "metadata": {},
   "source": [
    "### Exercise 2 - Write a Python class which has two methods get_String and print_String. get_String accept a string from the user and print_String print the string in upper case"
   ]
  },
  {
   "cell_type": "code",
   "execution_count": null,
   "metadata": {},
   "outputs": [],
   "source": []
  }
 ],
 "metadata": {
  "kernelspec": {
   "display_name": "Python 3",
   "language": "python",
   "name": "python3"
  },
  "language_info": {
   "codemirror_mode": {
    "name": "ipython",
    "version": 3
   },
   "file_extension": ".py",
   "mimetype": "text/x-python",
   "name": "python",
   "nbconvert_exporter": "python",
   "pygments_lexer": "ipython3",
   "version": "3.8.8"
  }
 },
 "nbformat": 4,
 "nbformat_minor": 2
}
